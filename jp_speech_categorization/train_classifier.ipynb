{
 "cells": [
  {
   "cell_type": "code",
   "execution_count": 1,
   "metadata": {},
   "outputs": [],
   "source": [
    "import pandas as pd\n",
    "import os\n",
    "import re\n",
    "import numpy as np\n",
    "from params.paths import ROOT_DIR\n",
    "from api_requests.meeting_convo_collector import MeetingConvoCollector\n",
    "from file_handling.file_read_writer import read_json, write_json, create_dir, write_file"
   ]
  },
  {
   "cell_type": "code",
   "execution_count": 2,
   "metadata": {},
   "outputs": [],
   "source": [
    "#params\n",
    "DATA_DIR = os.path.join(ROOT_DIR, 'data')\n",
    "RESOURCE_DIR = os.path.join(ROOT_DIR, 'resource')"
   ]
  },
  {
   "cell_type": "code",
   "execution_count": 3,
   "metadata": {},
   "outputs": [
    {
     "name": "stdout",
     "output_type": "stream",
     "text": [
      "事実文=>0\n",
      "質問文=>1\n",
      "説明文=>2\n",
      "意見文=>3\n",
      "その他=>4\n",
      "___________________________________________________________\n",
      "0=>事実文\n",
      "1=>質問文\n",
      "2=>説明文\n",
      "3=>意見文\n",
      "4=>その他\n"
     ]
    }
   ],
   "source": [
    "#loading the labels corresponding to the label ids\n",
    "label2id = read_json(os.path.join(RESOURCE_DIR, \"labels.json\"))\n",
    "id2label = {v:k for k, v in label2id.items()}\n",
    "label2id = {k: int(v) for k, v in label2id.items()}\n",
    "for k, v in label2id.items():\n",
    "    print(f\"{k}=>{v}\")\n",
    "print(\"___________________________________________________________\")\n",
    "for k, v in id2label.items():\n",
    "\tprint(f\"{k}=>{v}\")"
   ]
  },
  {
   "attachments": {},
   "cell_type": "markdown",
   "metadata": {},
   "source": [
    "# Preparing dataset"
   ]
  },
  {
   "cell_type": "code",
   "execution_count": 4,
   "metadata": {},
   "outputs": [
    {
     "name": "stderr",
     "output_type": "stream",
     "text": [
      "Found cached dataset csv (/home/ubuntu/.cache/huggingface/datasets/csv/default-fd254dbca646b115/0.0.0/eea64c71ca8b46dd3f537ed218fc9bf495d5707789152eb2764f5c78fa66d59d)\n"
     ]
    },
    {
     "data": {
      "application/vnd.jupyter.widget-view+json": {
       "model_id": "877d193516424aaf9c684eb4fdc5b500",
       "version_major": 2,
       "version_minor": 0
      },
      "text/plain": [
       "Filter:   0%|          | 0/1150 [00:00<?, ? examples/s]"
      ]
     },
     "metadata": {},
     "output_type": "display_data"
    },
    {
     "data": {
      "application/vnd.jupyter.widget-view+json": {
       "model_id": "67bd8711746f412d991463f27c8ae9e3",
       "version_major": 2,
       "version_minor": 0
      },
      "text/plain": [
       "Filter:   0%|          | 0/288 [00:00<?, ? examples/s]"
      ]
     },
     "metadata": {},
     "output_type": "display_data"
    },
    {
     "data": {
      "application/vnd.jupyter.widget-view+json": {
       "model_id": "c59982a5ea4145a7ae5aa7f9ab04c453",
       "version_major": 2,
       "version_minor": 0
      },
      "text/plain": [
       "Filter:   0%|          | 0/1142 [00:00<?, ? examples/s]"
      ]
     },
     "metadata": {},
     "output_type": "display_data"
    },
    {
     "data": {
      "application/vnd.jupyter.widget-view+json": {
       "model_id": "cb89ce6fba5b47c68926aea629d788f4",
       "version_major": 2,
       "version_minor": 0
      },
      "text/plain": [
       "Filter:   0%|          | 0/285 [00:00<?, ? examples/s]"
      ]
     },
     "metadata": {},
     "output_type": "display_data"
    },
    {
     "name": "stdout",
     "output_type": "stream",
     "text": [
      "DatasetDict({\n",
      "    train: Dataset({\n",
      "        features: ['speech', 'label_name', 'label', 'record_position'],\n",
      "        num_rows: 1137\n",
      "    })\n",
      "    test: Dataset({\n",
      "        features: ['speech', 'label_name', 'label', 'record_position'],\n",
      "        num_rows: 285\n",
      "    })\n",
      "})\n",
      "{'speech': 'こうした国民の皆様の悲痛な声に胸が痛みませんか', 'label_name': 'その他', 'label': 4, 'record_position': 27}\n"
     ]
    }
   ],
   "source": [
    "from datasets import load_dataset\n",
    "PATH_TO_DATA_FILE = os.path.join(DATA_DIR, \"labelled_data_77.csv\")\n",
    "dataset = load_dataset('csv', data_files=PATH_TO_DATA_FILE, split=\"train\").train_test_split(test_size=0.2)\n",
    "dataset = dataset.filter(lambda example: bool(example[\"speech\"])).filter(lambda example: len(example['speech'])<1000)\n",
    "dataset.rename_column(\"label\", \"label_name\")\n",
    "dataset = dataset.rename_columns({\"label\":\"label_name\", \"label_id\":\"label\"})\n",
    "print(dataset)\n",
    "print(dataset[\"train\"][199])"
   ]
  },
  {
   "cell_type": "code",
   "execution_count": 5,
   "metadata": {},
   "outputs": [
    {
     "data": {
      "application/vnd.jupyter.widget-view+json": {
       "model_id": "0922f68293ab495ea6951b2e2ced23b3",
       "version_major": 2,
       "version_minor": 0
      },
      "text/plain": [
       "Map:   0%|          | 0/1137 [00:00<?, ? examples/s]"
      ]
     },
     "metadata": {},
     "output_type": "display_data"
    },
    {
     "data": {
      "application/vnd.jupyter.widget-view+json": {
       "model_id": "3d71d41712e242c1a9dc30ddda81e89b",
       "version_major": 2,
       "version_minor": 0
      },
      "text/plain": [
       "Map:   0%|          | 0/285 [00:00<?, ? examples/s]"
      ]
     },
     "metadata": {},
     "output_type": "display_data"
    }
   ],
   "source": [
    "from transformers import AutoTokenizer\n",
    "tokenizer = AutoTokenizer.from_pretrained(\"cl-tohoku/bert-base-japanese-v3\")\n",
    "\n",
    "def tokenize_function(examples):\n",
    "    result = tokenizer(examples[\"speech\"], truncation=True, padding=True)\n",
    "    return result\n",
    "\n",
    "tokenized_datasets = dataset.map(tokenize_function, batched=True)"
   ]
  },
  {
   "attachments": {},
   "cell_type": "markdown",
   "metadata": {},
   "source": [
    "# Training"
   ]
  },
  {
   "cell_type": "code",
   "execution_count": 6,
   "metadata": {},
   "outputs": [],
   "source": [
    "import evaluate\n",
    "\n",
    "accuracy = evaluate.load(\"accuracy\")"
   ]
  },
  {
   "cell_type": "code",
   "execution_count": 7,
   "metadata": {},
   "outputs": [],
   "source": [
    "import numpy as np\n",
    "\n",
    "\n",
    "def compute_metrics(eval_pred):\n",
    "    predictions, labels = eval_pred\n",
    "    predictions = np.argmax(predictions, axis=1)\n",
    "    return accuracy.compute(predictions=predictions, references=labels)"
   ]
  },
  {
   "cell_type": "code",
   "execution_count": 8,
   "metadata": {},
   "outputs": [
    {
     "name": "stderr",
     "output_type": "stream",
     "text": [
      "Some weights of BertForSequenceClassification were not initialized from the model checkpoint at cl-tohoku/bert-base-japanese-v3 and are newly initialized: ['classifier.weight', 'classifier.bias']\n",
      "You should probably TRAIN this model on a down-stream task to be able to use it for predictions and inference.\n"
     ]
    }
   ],
   "source": [
    "from transformers import AutoModelForSequenceClassification, TrainingArguments, Trainer\n",
    "\n",
    "model = AutoModelForSequenceClassification.from_pretrained(\n",
    "    \"cl-tohoku/bert-base-japanese-v3\", num_labels=5, id2label=id2label, label2id=label2id\n",
    ")"
   ]
  },
  {
   "cell_type": "code",
   "execution_count": 28,
   "metadata": {},
   "outputs": [
    {
     "name": "stderr",
     "output_type": "stream",
     "text": [
      "/home/ubuntu/miniconda3/lib/python3.10/site-packages/transformers/optimization.py:411: FutureWarning: This implementation of AdamW is deprecated and will be removed in a future version. Use the PyTorch implementation torch.optim.AdamW instead, or set `no_deprecation_warning=True` to disable this warning\n",
      "  warnings.warn(\n"
     ]
    },
    {
     "data": {
      "text/html": [
       "\n",
       "    <div>\n",
       "      \n",
       "      <progress value='144' max='144' style='width:300px; height:20px; vertical-align: middle;'></progress>\n",
       "      [144/144 01:03, Epoch 2/2]\n",
       "    </div>\n",
       "    <table border=\"1\" class=\"dataframe\">\n",
       "  <thead>\n",
       " <tr style=\"text-align: left;\">\n",
       "      <th>Epoch</th>\n",
       "      <th>Training Loss</th>\n",
       "      <th>Validation Loss</th>\n",
       "      <th>Accuracy</th>\n",
       "    </tr>\n",
       "  </thead>\n",
       "  <tbody>\n",
       "    <tr>\n",
       "      <td>1</td>\n",
       "      <td>No log</td>\n",
       "      <td>1.104806</td>\n",
       "      <td>0.677193</td>\n",
       "    </tr>\n",
       "    <tr>\n",
       "      <td>2</td>\n",
       "      <td>No log</td>\n",
       "      <td>1.189505</td>\n",
       "      <td>0.705263</td>\n",
       "    </tr>\n",
       "  </tbody>\n",
       "</table><p>"
      ],
      "text/plain": [
       "<IPython.core.display.HTML object>"
      ]
     },
     "metadata": {},
     "output_type": "display_data"
    },
    {
     "data": {
      "text/plain": [
       "TrainOutput(global_step=144, training_loss=0.10924084319008721, metrics={'train_runtime': 64.1028, 'train_samples_per_second': 35.474, 'train_steps_per_second': 2.246, 'total_flos': 458096908471776.0, 'train_loss': 0.10924084319008721, 'epoch': 2.0})"
      ]
     },
     "execution_count": 28,
     "metadata": {},
     "output_type": "execute_result"
    }
   ],
   "source": [
    "training_args = TrainingArguments(\n",
    "    output_dir=\"jp-speech-classifier\",\n",
    "    learning_rate=2e-5,\n",
    "    per_device_train_batch_size=16,\n",
    "    per_device_eval_batch_size=16,\n",
    "    num_train_epochs=2,\n",
    "    weight_decay=0.01,\n",
    "    evaluation_strategy=\"epoch\",\n",
    "    save_strategy=\"epoch\",\n",
    "    load_best_model_at_end=True,\n",
    "    label_names=['labels'],\n",
    ")\n",
    "\n",
    "trainer = Trainer(\n",
    "    model=model,\n",
    "    args=training_args,\n",
    "    train_dataset=tokenized_datasets[\"train\"],\n",
    "    eval_dataset=tokenized_datasets[\"test\"],\n",
    "    tokenizer=tokenizer,\n",
    "    compute_metrics=compute_metrics,\n",
    ")\n",
    "trainer.train()\n"
   ]
  },
  {
   "cell_type": "code",
   "execution_count": 30,
   "metadata": {},
   "outputs": [
    {
     "name": "stderr",
     "output_type": "stream",
     "text": [
      "Cloning https://huggingface.co/kkatodus/jp-speech-classifier into local empty directory.\n"
     ]
    },
    {
     "data": {
      "application/vnd.jupyter.widget-view+json": {
       "model_id": "4b05eadbfb9d429d843a0eb820b3a2dc",
       "version_major": 2,
       "version_minor": 0
      },
      "text/plain": [
       "Upload file pytorch_model.bin:   0%|          | 1.00/424M [00:00<?, ?B/s]"
      ]
     },
     "metadata": {},
     "output_type": "display_data"
    },
    {
     "data": {
      "application/vnd.jupyter.widget-view+json": {
       "model_id": "a27d7c1678c4490999111bc65fde7686",
       "version_major": 2,
       "version_minor": 0
      },
      "text/plain": [
       "Upload file training_args.bin:   0%|          | 1.00/3.87k [00:00<?, ?B/s]"
      ]
     },
     "metadata": {},
     "output_type": "display_data"
    },
    {
     "name": "stderr",
     "output_type": "stream",
     "text": [
      "To https://huggingface.co/kkatodus/jp-speech-classifier\n",
      "   7f8d406..8e83e6c  main -> main\n",
      "\n",
      "To https://huggingface.co/kkatodus/jp-speech-classifier\n",
      "   8e83e6c..14060e9  main -> main\n",
      "\n"
     ]
    },
    {
     "data": {
      "text/plain": [
       "'https://huggingface.co/kkatodus/jp-speech-classifier/commit/8e83e6c518f52feacec869c6a8b4a562775aa410'"
      ]
     },
     "execution_count": 30,
     "metadata": {},
     "output_type": "execute_result"
    }
   ],
   "source": [
    "trainer.push_to_hub()"
   ]
  },
  {
   "cell_type": "markdown",
   "metadata": {},
   "source": [
    "# Testing on single samples"
   ]
  },
  {
   "cell_type": "code",
   "execution_count": 21,
   "metadata": {},
   "outputs": [
    {
     "data": {
      "application/vnd.jupyter.widget-view+json": {
       "model_id": "5a8ed5078673433a856dfb10c5159129",
       "version_major": 2,
       "version_minor": 0
      },
      "text/plain": [
       "Map:   0%|          | 0/5 [00:00<?, ? examples/s]"
      ]
     },
     "metadata": {},
     "output_type": "display_data"
    },
    {
     "name": "stdout",
     "output_type": "stream",
     "text": [
      "Dataset({\n",
      "    features: ['speech', 'label', 'input_ids', 'token_type_ids', 'attention_mask'],\n",
      "    num_rows: 5\n",
      "})\n"
     ]
    },
    {
     "data": {
      "text/html": [],
      "text/plain": [
       "<IPython.core.display.HTML object>"
      ]
     },
     "metadata": {},
     "output_type": "display_data"
    },
    {
     "data": {
      "text/plain": [
       "PredictionOutput(predictions=array([[-1.0185171 ,  2.1610246 , -0.7538159 , -0.53144586, -0.10285759],\n",
       "       [-1.98192   , -0.6809551 , -0.59336185,  3.3562343 , -1.572317  ],\n",
       "       [ 1.3550638 , -2.3506474 ,  1.9632782 , -0.73973805, -0.94014865],\n",
       "       [-0.5290267 , -0.9143827 , -0.14919591, -0.92953813,  2.5128245 ],\n",
       "       [-0.4566768 , -1.661125  ,  0.0658606 ,  0.6682328 ,  0.3735632 ]],\n",
       "      dtype=float32), label_ids=array([1, 3, 0, 4, 3]), metrics={'test_loss': 0.515464723110199, 'test_accuracy': 0.8, 'test_runtime': 0.0141, 'test_samples_per_second': 354.5, 'test_steps_per_second': 70.9})"
      ]
     },
     "execution_count": 21,
     "metadata": {},
     "output_type": "execute_result"
    }
   ],
   "source": [
    "from datasets import Dataset\n",
    "\"\"\"\n",
    "事実文=>0\n",
    "質問文=>1\n",
    "説明文=>2\n",
    "意見文=>3\n",
    "その他=>4\n",
    "___________________________________________________________\n",
    "0=>事実文\n",
    "1=>質問文\n",
    "2=>説明文\n",
    "3=>意見文\n",
    "4=>その他\n",
    "\"\"\"\n",
    "['speech', 'label_name', 'label', 'record_position'],\n",
    "ds = Dataset.from_dict({'speech':['バナナはおやつに入りますか', \"私は防衛費を増額するべきだと思います\", \"日本の人口はここ10年右肩下がりです\", \"暇暇暇暇暇なんだよ\", \"私は鎌田の最も適切な移籍先はバルセロナだと思っています\"], 'label':[1, 3, 0, 4, 3]})\n",
    "tokenized_ds = ds.map(tokenize_function, batched=True)\n",
    "predictions = trainer.predict(tokenized_ds)\n"
   ]
  }
 ],
 "metadata": {
  "kernelspec": {
   "display_name": "speech_cat_venv",
   "language": "python",
   "name": "python3"
  },
  "language_info": {
   "codemirror_mode": {
    "name": "ipython",
    "version": 3
   },
   "file_extension": ".py",
   "mimetype": "text/x-python",
   "name": "python",
   "nbconvert_exporter": "python",
   "pygments_lexer": "ipython3",
   "version": "3.10.12"
  },
  "orig_nbformat": 4
 },
 "nbformat": 4,
 "nbformat_minor": 2
}
